{
 "cells": [
  {
   "cell_type": "markdown",
   "id": "79f83cb3",
   "metadata": {
    "papermill": {
     "duration": 0.005256,
     "end_time": "2025-03-20T02:27:51.971265",
     "exception": false,
     "start_time": "2025-03-20T02:27:51.966009",
     "status": "completed"
    },
    "tags": []
   },
   "source": [
    "**This notebook is an exercise in the [Python](https://www.kaggle.com/learn/python) course.  You can reference the tutorial at [this link](https://www.kaggle.com/colinmorris/hello-python).**\n",
    "\n",
    "---\n"
   ]
  },
  {
   "cell_type": "markdown",
   "id": "7c52953f",
   "metadata": {
    "papermill": {
     "duration": 0.004241,
     "end_time": "2025-03-20T02:27:51.980103",
     "exception": false,
     "start_time": "2025-03-20T02:27:51.975862",
     "status": "completed"
    },
    "tags": []
   },
   "source": [
    "Welcome to your first set of Python coding problems.  If this is your first time using Kaggle Notebooks, welcome! \n",
    "\n",
    "Notebooks are composed of blocks (called \"cells\") of text and code. Each of these is editable, though you'll mainly be editing the code cells to answer some questions.\n",
    "\n",
    "To get started, try running the code cell below (by pressing the ► button, or clicking on the cell and pressing ctrl+enter on your keyboard)."
   ]
  },
  {
   "cell_type": "code",
   "execution_count": 1,
   "id": "10037d4a",
   "metadata": {
    "execution": {
     "iopub.execute_input": "2025-03-20T02:27:51.990317Z",
     "iopub.status.busy": "2025-03-20T02:27:51.990010Z",
     "iopub.status.idle": "2025-03-20T02:27:51.996094Z",
     "shell.execute_reply": "2025-03-20T02:27:51.995178Z"
    },
    "papermill": {
     "duration": 0.012586,
     "end_time": "2025-03-20T02:27:51.997296",
     "exception": false,
     "start_time": "2025-03-20T02:27:51.984710",
     "status": "completed"
    },
    "tags": []
   },
   "outputs": [
    {
     "name": "stdout",
     "output_type": "stream",
     "text": [
      "You've successfully run some Python code\n",
      "Congratulations!\n",
      "I know, right!\n"
     ]
    }
   ],
   "source": [
    "print(\"You've successfully run some Python code\")\n",
    "print(\"Congratulations!\")\n",
    "print('I know, right!')"
   ]
  },
  {
   "cell_type": "code",
   "execution_count": 2,
   "id": "f02b99a0",
   "metadata": {
    "execution": {
     "iopub.execute_input": "2025-03-20T02:27:52.007261Z",
     "iopub.status.busy": "2025-03-20T02:27:52.007053Z",
     "iopub.status.idle": "2025-03-20T02:27:52.010323Z",
     "shell.execute_reply": "2025-03-20T02:27:52.009488Z"
    },
    "papermill": {
     "duration": 0.00969,
     "end_time": "2025-03-20T02:27:52.011526",
     "exception": false,
     "start_time": "2025-03-20T02:27:52.001836",
     "status": "completed"
    },
    "tags": []
   },
   "outputs": [
    {
     "name": "stdout",
     "output_type": "stream",
     "text": [
      "I just learned to add a new code cell by holding down Escape + a.\n"
     ]
    }
   ],
   "source": [
    "print('I just learned to add a new code cell by holding down Escape + a.')"
   ]
  },
  {
   "cell_type": "code",
   "execution_count": 3,
   "id": "ea4214fe",
   "metadata": {
    "execution": {
     "iopub.execute_input": "2025-03-20T02:27:52.021226Z",
     "iopub.status.busy": "2025-03-20T02:27:52.021033Z",
     "iopub.status.idle": "2025-03-20T02:27:52.024756Z",
     "shell.execute_reply": "2025-03-20T02:27:52.023960Z"
    },
    "papermill": {
     "duration": 0.009962,
     "end_time": "2025-03-20T02:27:52.026039",
     "exception": false,
     "start_time": "2025-03-20T02:27:52.016077",
     "status": "completed"
    },
    "tags": []
   },
   "outputs": [
    {
     "name": "stdout",
     "output_type": "stream",
     "text": [
      "So far, so good.\n"
     ]
    }
   ],
   "source": [
    "print('So far, so good.')"
   ]
  },
  {
   "cell_type": "code",
   "execution_count": 4,
   "id": "5871cfc6",
   "metadata": {
    "execution": {
     "iopub.execute_input": "2025-03-20T02:27:52.035973Z",
     "iopub.status.busy": "2025-03-20T02:27:52.035784Z",
     "iopub.status.idle": "2025-03-20T02:27:52.039262Z",
     "shell.execute_reply": "2025-03-20T02:27:52.038622Z"
    },
    "papermill": {
     "duration": 0.009799,
     "end_time": "2025-03-20T02:27:52.040466",
     "exception": false,
     "start_time": "2025-03-20T02:27:52.030667",
     "status": "completed"
    },
    "tags": []
   },
   "outputs": [
    {
     "name": "stdout",
     "output_type": "stream",
     "text": [
      "I just learned to add a new code cell below by holding down Escape + b.\n"
     ]
    }
   ],
   "source": [
    "print('I just learned to add a new code cell below by holding down Escape + b.')"
   ]
  },
  {
   "cell_type": "markdown",
   "id": "921fce3e",
   "metadata": {
    "papermill": {
     "duration": 0.004448,
     "end_time": "2025-03-20T02:27:52.049595",
     "exception": false,
     "start_time": "2025-03-20T02:27:52.045147",
     "status": "completed"
    },
    "tags": []
   },
   "source": [
    "Try adding another line of code in the cell above and re-running it. \n",
    "\n",
    "Now let's get a little fancier:  Add a new code cell by clicking on an existing code cell, hitting the escape key, and then hitting the `a` or `b` key.  The `a` key will add a cell above the current cell, and `b` adds a cell below.\n",
    "\n",
    "Great! Now you know how to use Notebooks.\n",
    "\n",
    "Each hands-on exercise starts by setting up our feedback and code checking mechanism. Run the code cell below to do that. Then you'll be ready to move on to question 0."
   ]
  },
  {
   "cell_type": "code",
   "execution_count": 5,
   "id": "bbfa1b86",
   "metadata": {
    "_kg_hide-input": true,
    "_kg_hide-output": true,
    "execution": {
     "iopub.execute_input": "2025-03-20T02:27:52.059445Z",
     "iopub.status.busy": "2025-03-20T02:27:52.059236Z",
     "iopub.status.idle": "2025-03-20T02:27:52.791883Z",
     "shell.execute_reply": "2025-03-20T02:27:52.791030Z"
    },
    "papermill": {
     "duration": 0.739202,
     "end_time": "2025-03-20T02:27:52.793411",
     "exception": false,
     "start_time": "2025-03-20T02:27:52.054209",
     "status": "completed"
    },
    "tags": []
   },
   "outputs": [
    {
     "name": "stdout",
     "output_type": "stream",
     "text": [
      "Setup complete! You're ready to start question 0.\n"
     ]
    }
   ],
   "source": [
    "from learntools.core import binder; binder.bind(globals())\n",
    "from learntools.python.ex1 import *\n",
    "print(\"Setup complete! You're ready to start question 0.\")"
   ]
  },
  {
   "cell_type": "markdown",
   "id": "33dd622d",
   "metadata": {
    "papermill": {
     "duration": 0.00463,
     "end_time": "2025-03-20T02:27:52.803187",
     "exception": false,
     "start_time": "2025-03-20T02:27:52.798557",
     "status": "completed"
    },
    "tags": []
   },
   "source": [
    "# 0.\n",
    "\n",
    "*This is a silly question intended as an introduction to the format we use for hands-on exercises throughout all Kaggle courses.*\n",
    "\n",
    "**What is your favorite color? **\n",
    "\n",
    "To complete this question, create a variable called `color` in the cell below with an appropriate value. The function call `q0.check()` (which we've already provided in the cell below) will check your answer."
   ]
  },
  {
   "cell_type": "code",
   "execution_count": 6,
   "id": "e7a4f750",
   "metadata": {
    "execution": {
     "iopub.execute_input": "2025-03-20T02:27:52.813386Z",
     "iopub.status.busy": "2025-03-20T02:27:52.813065Z",
     "iopub.status.idle": "2025-03-20T02:27:52.819627Z",
     "shell.execute_reply": "2025-03-20T02:27:52.818817Z"
    },
    "papermill": {
     "duration": 0.013013,
     "end_time": "2025-03-20T02:27:52.820873",
     "exception": false,
     "start_time": "2025-03-20T02:27:52.807860",
     "status": "completed"
    },
    "tags": []
   },
   "outputs": [
    {
     "data": {
      "application/javascript": [
       "parent.postMessage({\"jupyterEvent\": \"custom.exercise_interaction\", \"data\": {\"outcomeType\": 1, \"valueTowardsCompletion\": 0.25, \"interactionType\": 1, \"questionType\": 2, \"questionId\": \"0_ExerciseFormatTutorial\", \"learnToolsVersion\": \"0.3.4\", \"failureMessage\": \"\", \"exceptionClass\": \"\", \"trace\": \"\"}}, \"*\")"
      ],
      "text/plain": [
       "<IPython.core.display.Javascript object>"
      ]
     },
     "metadata": {},
     "output_type": "display_data"
    },
    {
     "data": {
      "text/markdown": [
       "<span style=\"color:#33cc33\">Correct:</span> What?! You got it right without needing a hint or anything? Drats. Well hey, you should still continue to the next step to get some practice asking for a hint and checking solutions. (Even though you obviously don't need any help here.)"
      ],
      "text/plain": [
       "Correct: What?! You got it right without needing a hint or anything? Drats. Well hey, you should still continue to the next step to get some practice asking for a hint and checking solutions. (Even though you obviously don't need any help here.)"
      ]
     },
     "metadata": {},
     "output_type": "display_data"
    }
   ],
   "source": [
    "# create a variable called color with an appropriate value on the line below\n",
    "# (Remember, strings in Python must be enclosed in 'single' or \"double\" quotes)\n",
    "____\n",
    "color = 'blue'\n",
    "# Check your answer\n",
    "q0.check()"
   ]
  },
  {
   "cell_type": "markdown",
   "id": "609ea744",
   "metadata": {
    "papermill": {
     "duration": 0.004653,
     "end_time": "2025-03-20T02:27:52.830328",
     "exception": false,
     "start_time": "2025-03-20T02:27:52.825675",
     "status": "completed"
    },
    "tags": []
   },
   "source": [
    "Didn't get the right answer? How do you not even know your own favorite color?!\n",
    "\n",
    "Delete the `#` in the line below to make one of the lines run. You can choose between getting a hint or the full answer by choosing which line to remove the `#` from. \n",
    "\n",
    "Removing the `#` is called uncommenting, because it changes that line from a \"comment\" which Python doesn't run to code, which Python does run."
   ]
  },
  {
   "cell_type": "code",
   "execution_count": 7,
   "id": "b35e5202",
   "metadata": {
    "execution": {
     "iopub.execute_input": "2025-03-20T02:27:52.840593Z",
     "iopub.status.busy": "2025-03-20T02:27:52.840349Z",
     "iopub.status.idle": "2025-03-20T02:27:52.845631Z",
     "shell.execute_reply": "2025-03-20T02:27:52.844971Z"
    },
    "papermill": {
     "duration": 0.011747,
     "end_time": "2025-03-20T02:27:52.846866",
     "exception": false,
     "start_time": "2025-03-20T02:27:52.835119",
     "status": "completed"
    },
    "tags": []
   },
   "outputs": [
    {
     "data": {
      "application/javascript": [
       "parent.postMessage({\"jupyterEvent\": \"custom.exercise_interaction\", \"data\": {\"interactionType\": 2, \"questionType\": 2, \"questionId\": \"0_ExerciseFormatTutorial\", \"learnToolsVersion\": \"0.3.4\", \"valueTowardsCompletion\": 0.0, \"failureMessage\": \"\", \"exceptionClass\": \"\", \"trace\": \"\", \"outcomeType\": 4}}, \"*\")"
      ],
      "text/plain": [
       "<IPython.core.display.Javascript object>"
      ]
     },
     "metadata": {},
     "output_type": "display_data"
    },
    {
     "data": {
      "text/markdown": [
       "<span style=\"color:#3366cc\">Hint:</span> Your favorite color rhymes with *glue*."
      ],
      "text/plain": [
       "Hint: Your favorite color rhymes with *glue*."
      ]
     },
     "metadata": {},
     "output_type": "display_data"
    }
   ],
   "source": [
    "q0.hint()\n",
    "#q0.solution()"
   ]
  },
  {
   "cell_type": "markdown",
   "id": "cb02e18b",
   "metadata": {
    "papermill": {
     "duration": 0.004876,
     "end_time": "2025-03-20T02:27:52.856772",
     "exception": false,
     "start_time": "2025-03-20T02:27:52.851896",
     "status": "completed"
    },
    "tags": []
   },
   "source": [
    "The upcoming questions work the same way. The only thing that will change are the question numbers. For the next question, you'll call `q1.check()`, `q1.hint()`, `q1.solution()`, for question 2, you'll call `q2.check()`, and so on."
   ]
  },
  {
   "cell_type": "markdown",
   "id": "2bbbefe5",
   "metadata": {
    "papermill": {
     "duration": 0.005007,
     "end_time": "2025-03-20T02:27:52.866769",
     "exception": false,
     "start_time": "2025-03-20T02:27:52.861762",
     "status": "completed"
    },
    "tags": []
   },
   "source": [
    "<hr/>\n",
    "\n",
    "# 1.\n",
    "\n",
    "Complete the code below. In case it's helpful, here is the table of available arithmetic operations:\n",
    "\n",
    "\n",
    "\n",
    "| Operator     | Name           | Description                                            |\n",
    "|--------------|----------------|--------------------------------------------------------|\n",
    "| ``a + b``    | Addition       | Sum of ``a`` and ``b``                                 |\n",
    "| ``a - b``    | Subtraction    | Difference of ``a`` and ``b``                          |\n",
    "| ``a * b``    | Multiplication | Product of ``a`` and ``b``                             |\n",
    "| ``a / b``    | True division  | Quotient of ``a`` and ``b``                            |\n",
    "| ``a // b``   | Floor division | Quotient of ``a`` and ``b``, removing fractional parts |\n",
    "| ``a % b``    | Modulus        | Integer remainder after division of ``a`` by ``b``     |\n",
    "| ``a ** b``   | Exponentiation | ``a`` raised to the power of ``b``                     |\n",
    "| ``-a``       | Negation       | The negative of ``a``                                  |\n",
    "\n",
    "<span style=\"display:none\"></span>\n"
   ]
  },
  {
   "cell_type": "code",
   "execution_count": 8,
   "id": "0621ef03",
   "metadata": {
    "execution": {
     "iopub.execute_input": "2025-03-20T02:27:52.877416Z",
     "iopub.status.busy": "2025-03-20T02:27:52.877211Z",
     "iopub.status.idle": "2025-03-20T02:27:52.883203Z",
     "shell.execute_reply": "2025-03-20T02:27:52.882406Z"
    },
    "papermill": {
     "duration": 0.012654,
     "end_time": "2025-03-20T02:27:52.884350",
     "exception": false,
     "start_time": "2025-03-20T02:27:52.871696",
     "status": "completed"
    },
    "tags": []
   },
   "outputs": [
    {
     "data": {
      "application/javascript": [
       "parent.postMessage({\"jupyterEvent\": \"custom.exercise_interaction\", \"data\": {\"outcomeType\": 1, \"valueTowardsCompletion\": 0.25, \"interactionType\": 1, \"questionType\": 1, \"questionId\": \"1_CircleArea\", \"learnToolsVersion\": \"0.3.4\", \"failureMessage\": \"\", \"exceptionClass\": \"\", \"trace\": \"\"}}, \"*\")"
      ],
      "text/plain": [
       "<IPython.core.display.Javascript object>"
      ]
     },
     "metadata": {},
     "output_type": "display_data"
    },
    {
     "data": {
      "text/markdown": [
       "<span style=\"color:#33cc33\">Correct</span>"
      ],
      "text/plain": [
       "Correct"
      ]
     },
     "metadata": {},
     "output_type": "display_data"
    }
   ],
   "source": [
    "pi = 3.14159 # approximate\n",
    "diameter = 3\n",
    "\n",
    "# Create a variable called 'radius' equal to half the diameter\n",
    "____\n",
    "radius = diameter / 2\n",
    "# Create a variable called 'area', using the formula for the area of a circle: pi times the radius squared\n",
    "____\n",
    "area = pi * radius**2\n",
    "# Check your answer\n",
    "q1.check()"
   ]
  },
  {
   "cell_type": "code",
   "execution_count": 9,
   "id": "3ac2fe72",
   "metadata": {
    "execution": {
     "iopub.execute_input": "2025-03-20T02:27:52.895460Z",
     "iopub.status.busy": "2025-03-20T02:27:52.895261Z",
     "iopub.status.idle": "2025-03-20T02:27:52.898523Z",
     "shell.execute_reply": "2025-03-20T02:27:52.897419Z"
    },
    "papermill": {
     "duration": 0.010284,
     "end_time": "2025-03-20T02:27:52.899957",
     "exception": false,
     "start_time": "2025-03-20T02:27:52.889673",
     "status": "completed"
    },
    "tags": []
   },
   "outputs": [],
   "source": [
    "# Uncomment and run the lines below if you need help.\n",
    "#q1.hint()\n",
    "#q1.solution()"
   ]
  },
  {
   "cell_type": "markdown",
   "id": "160e8f5d",
   "metadata": {
    "papermill": {
     "duration": 0.0052,
     "end_time": "2025-03-20T02:27:52.910615",
     "exception": false,
     "start_time": "2025-03-20T02:27:52.905415",
     "status": "completed"
    },
    "tags": []
   },
   "source": [
    "<hr/>\n",
    "\n",
    "# 2.\n",
    "\n",
    "Add code to the following cell to swap variables `a` and `b` (so that `a` refers to the object previously referred to by `b` and vice versa)."
   ]
  },
  {
   "cell_type": "code",
   "execution_count": 10,
   "id": "fef37485",
   "metadata": {
    "execution": {
     "iopub.execute_input": "2025-03-20T02:27:52.921843Z",
     "iopub.status.busy": "2025-03-20T02:27:52.921623Z",
     "iopub.status.idle": "2025-03-20T02:27:52.927723Z",
     "shell.execute_reply": "2025-03-20T02:27:52.927035Z"
    },
    "papermill": {
     "duration": 0.013178,
     "end_time": "2025-03-20T02:27:52.928931",
     "exception": false,
     "start_time": "2025-03-20T02:27:52.915753",
     "status": "completed"
    },
    "tags": []
   },
   "outputs": [
    {
     "data": {
      "application/javascript": [
       "parent.postMessage({\"jupyterEvent\": \"custom.exercise_interaction\", \"data\": {\"outcomeType\": 1, \"valueTowardsCompletion\": 0.25, \"interactionType\": 1, \"questionType\": 2, \"questionId\": \"2_VariableSwap\", \"learnToolsVersion\": \"0.3.4\", \"failureMessage\": \"\", \"exceptionClass\": \"\", \"trace\": \"\"}}, \"*\")"
      ],
      "text/plain": [
       "<IPython.core.display.Javascript object>"
      ]
     },
     "metadata": {},
     "output_type": "display_data"
    },
    {
     "data": {
      "text/markdown": [
       "<span style=\"color:#33cc33\">Correct:</span> \n",
       "\n",
       "The most straightforward solution is to use a third variable to temporarily store one of the old values. e.g.:\n",
       "\n",
       "    tmp = a\n",
       "    a = b\n",
       "    b = tmp\n",
       "\n",
       "If you've read lots of Python code, you might have seen the following trick to swap two variables in one line:\n",
       "\n",
       "    a, b = b, a\n",
       "\n",
       "We'll demystify this bit of Python magic later when we talk about *tuples*."
      ],
      "text/plain": [
       "Correct: \n",
       "\n",
       "The most straightforward solution is to use a third variable to temporarily store one of the old values. e.g.:\n",
       "\n",
       "    tmp = a\n",
       "    a = b\n",
       "    b = tmp\n",
       "\n",
       "If you've read lots of Python code, you might have seen the following trick to swap two variables in one line:\n",
       "\n",
       "    a, b = b, a\n",
       "\n",
       "We'll demystify this bit of Python magic later when we talk about *tuples*."
      ]
     },
     "metadata": {},
     "output_type": "display_data"
    }
   ],
   "source": [
    "########### Setup code - don't touch this part ######################\n",
    "# If you're curious, these are examples of lists. We'll talk about \n",
    "# them in depth a few lessons from now. For now, just know that they're\n",
    "# yet another type of Python object, like int or float.\n",
    "a = [1, 2, 3]\n",
    "b = [3, 2, 1]\n",
    "q2.store_original_ids()\n",
    "######################################################################\n",
    "\n",
    "# Your code goes here. Swap the values to which a and b refer.\n",
    "# If you get stuck, you can always uncomment one or both of the lines in\n",
    "# the next cell for a hint, or to peek at the solution.\n",
    "c = a\n",
    "d = b\n",
    "a = d\n",
    "b = c\n",
    "######################################################################\n",
    "\n",
    "# Check your answer\n",
    "q2.check()"
   ]
  },
  {
   "cell_type": "code",
   "execution_count": 11,
   "id": "43cda5ff",
   "metadata": {
    "execution": {
     "iopub.execute_input": "2025-03-20T02:27:52.940475Z",
     "iopub.status.busy": "2025-03-20T02:27:52.940275Z",
     "iopub.status.idle": "2025-03-20T02:27:52.943295Z",
     "shell.execute_reply": "2025-03-20T02:27:52.942501Z"
    },
    "papermill": {
     "duration": 0.010016,
     "end_time": "2025-03-20T02:27:52.944442",
     "exception": false,
     "start_time": "2025-03-20T02:27:52.934426",
     "status": "completed"
    },
    "tags": []
   },
   "outputs": [],
   "source": [
    "#q2.hint()"
   ]
  },
  {
   "cell_type": "code",
   "execution_count": 12,
   "id": "c238c9d4",
   "metadata": {
    "execution": {
     "iopub.execute_input": "2025-03-20T02:27:52.955861Z",
     "iopub.status.busy": "2025-03-20T02:27:52.955643Z",
     "iopub.status.idle": "2025-03-20T02:27:52.958188Z",
     "shell.execute_reply": "2025-03-20T02:27:52.957632Z"
    },
    "papermill": {
     "duration": 0.009504,
     "end_time": "2025-03-20T02:27:52.959345",
     "exception": false,
     "start_time": "2025-03-20T02:27:52.949841",
     "status": "completed"
    },
    "tags": []
   },
   "outputs": [],
   "source": [
    "#q2.solution()"
   ]
  },
  {
   "cell_type": "markdown",
   "id": "1f4eb8c4",
   "metadata": {
    "papermill": {
     "duration": 0.005145,
     "end_time": "2025-03-20T02:27:52.969911",
     "exception": false,
     "start_time": "2025-03-20T02:27:52.964766",
     "status": "completed"
    },
    "tags": []
   },
   "source": [
    "<hr/>\n",
    "\n",
    "# 3a.\n",
    "\n",
    "Add parentheses to the following expression so that it evaluates to 1."
   ]
  },
  {
   "cell_type": "code",
   "execution_count": 13,
   "id": "cb572112",
   "metadata": {
    "execution": {
     "iopub.execute_input": "2025-03-20T02:27:52.981638Z",
     "iopub.status.busy": "2025-03-20T02:27:52.981180Z",
     "iopub.status.idle": "2025-03-20T02:27:52.986069Z",
     "shell.execute_reply": "2025-03-20T02:27:52.985297Z"
    },
    "papermill": {
     "duration": 0.012027,
     "end_time": "2025-03-20T02:27:52.987347",
     "exception": false,
     "start_time": "2025-03-20T02:27:52.975320",
     "status": "completed"
    },
    "tags": []
   },
   "outputs": [
    {
     "data": {
      "text/plain": [
       "1"
      ]
     },
     "execution_count": 13,
     "metadata": {},
     "output_type": "execute_result"
    }
   ],
   "source": [
    "(5 - 3) // 2"
   ]
  },
  {
   "cell_type": "code",
   "execution_count": 14,
   "id": "a94e1d8f",
   "metadata": {
    "execution": {
     "iopub.execute_input": "2025-03-20T02:27:52.999165Z",
     "iopub.status.busy": "2025-03-20T02:27:52.998966Z",
     "iopub.status.idle": "2025-03-20T02:27:53.001624Z",
     "shell.execute_reply": "2025-03-20T02:27:53.000996Z"
    },
    "papermill": {
     "duration": 0.009971,
     "end_time": "2025-03-20T02:27:53.002829",
     "exception": false,
     "start_time": "2025-03-20T02:27:52.992858",
     "status": "completed"
    },
    "tags": []
   },
   "outputs": [],
   "source": [
    "#q3.a.hint()"
   ]
  },
  {
   "cell_type": "code",
   "execution_count": 15,
   "id": "d080b2a8",
   "metadata": {
    "execution": {
     "iopub.execute_input": "2025-03-20T02:27:53.014912Z",
     "iopub.status.busy": "2025-03-20T02:27:53.014706Z",
     "iopub.status.idle": "2025-03-20T02:27:53.019992Z",
     "shell.execute_reply": "2025-03-20T02:27:53.019218Z"
    },
    "papermill": {
     "duration": 0.012524,
     "end_time": "2025-03-20T02:27:53.021141",
     "exception": false,
     "start_time": "2025-03-20T02:27:53.008617",
     "status": "completed"
    },
    "tags": []
   },
   "outputs": [
    {
     "data": {
      "application/javascript": [
       "parent.postMessage({\"jupyterEvent\": \"custom.exercise_interaction\", \"data\": {\"interactionType\": 3, \"questionType\": 4, \"questionId\": \"3.1_ArithmeticParensEasy\", \"learnToolsVersion\": \"0.3.4\", \"valueTowardsCompletion\": 0.0, \"failureMessage\": \"\", \"exceptionClass\": \"\", \"trace\": \"\", \"outcomeType\": 4}}, \"*\")"
      ],
      "text/plain": [
       "<IPython.core.display.Javascript object>"
      ]
     },
     "metadata": {},
     "output_type": "display_data"
    },
    {
     "data": {
      "text/markdown": [
       "<span style=\"color:#33cc99\">Solution:</span> \n",
       "```python\n",
       "(5 - 3) // 2\n",
       "```"
      ],
      "text/plain": [
       "Solution: \n",
       "```python\n",
       "(5 - 3) // 2\n",
       "```"
      ]
     },
     "metadata": {},
     "output_type": "display_data"
    }
   ],
   "source": [
    "# Check your answer (Run this code cell to receive credit!)\n",
    "q3.a.solution()"
   ]
  },
  {
   "cell_type": "markdown",
   "id": "b49e4067",
   "metadata": {
    "papermill": {
     "duration": 0.005522,
     "end_time": "2025-03-20T02:27:53.032421",
     "exception": false,
     "start_time": "2025-03-20T02:27:53.026899",
     "status": "completed"
    },
    "tags": []
   },
   "source": [
    "# 3b.  <span title=\"A bit spicy\" style=\"color: darkgreen \">🌶️</span>\n",
    "\n",
    "<small>Questions, like this one, marked a spicy pepper are a bit harder.</small>\n",
    "\n",
    "Add parentheses to the following expression so that it evaluates to 0."
   ]
  },
  {
   "cell_type": "code",
   "execution_count": 16,
   "id": "70f347f1",
   "metadata": {
    "execution": {
     "iopub.execute_input": "2025-03-20T02:27:53.044715Z",
     "iopub.status.busy": "2025-03-20T02:27:53.044456Z",
     "iopub.status.idle": "2025-03-20T02:27:53.048927Z",
     "shell.execute_reply": "2025-03-20T02:27:53.048111Z"
    },
    "papermill": {
     "duration": 0.011945,
     "end_time": "2025-03-20T02:27:53.050171",
     "exception": false,
     "start_time": "2025-03-20T02:27:53.038226",
     "status": "completed"
    },
    "tags": []
   },
   "outputs": [
    {
     "data": {
      "text/plain": [
       "0"
      ]
     },
     "execution_count": 16,
     "metadata": {},
     "output_type": "execute_result"
    }
   ],
   "source": [
    "(8 - 3) * (2 - (1 + 1))"
   ]
  },
  {
   "cell_type": "code",
   "execution_count": 17,
   "id": "847086b9",
   "metadata": {
    "execution": {
     "iopub.execute_input": "2025-03-20T02:27:53.062418Z",
     "iopub.status.busy": "2025-03-20T02:27:53.062213Z",
     "iopub.status.idle": "2025-03-20T02:27:53.064849Z",
     "shell.execute_reply": "2025-03-20T02:27:53.064226Z"
    },
    "papermill": {
     "duration": 0.010011,
     "end_time": "2025-03-20T02:27:53.066030",
     "exception": false,
     "start_time": "2025-03-20T02:27:53.056019",
     "status": "completed"
    },
    "tags": []
   },
   "outputs": [],
   "source": [
    "#q3.b.hint()"
   ]
  },
  {
   "cell_type": "code",
   "execution_count": 18,
   "id": "3daa6438",
   "metadata": {
    "execution": {
     "iopub.execute_input": "2025-03-20T02:27:53.078346Z",
     "iopub.status.busy": "2025-03-20T02:27:53.078146Z",
     "iopub.status.idle": "2025-03-20T02:27:53.083287Z",
     "shell.execute_reply": "2025-03-20T02:27:53.082675Z"
    },
    "papermill": {
     "duration": 0.012539,
     "end_time": "2025-03-20T02:27:53.084354",
     "exception": false,
     "start_time": "2025-03-20T02:27:53.071815",
     "status": "completed"
    },
    "tags": []
   },
   "outputs": [
    {
     "data": {
      "application/javascript": [
       "parent.postMessage({\"jupyterEvent\": \"custom.exercise_interaction\", \"data\": {\"interactionType\": 3, \"questionType\": 4, \"questionId\": \"3.2_ArithmeticParensHard\", \"learnToolsVersion\": \"0.3.4\", \"valueTowardsCompletion\": 0.0, \"failureMessage\": \"\", \"exceptionClass\": \"\", \"trace\": \"\", \"outcomeType\": 4}}, \"*\")"
      ],
      "text/plain": [
       "<IPython.core.display.Javascript object>"
      ]
     },
     "metadata": {},
     "output_type": "display_data"
    },
    {
     "data": {
      "text/markdown": [
       "<span style=\"color:#33cc99\">Solution:</span> `(8 - 3) * (2 - (1 + 1))` is one solution. There may be others."
      ],
      "text/plain": [
       "Solution: `(8 - 3) * (2 - (1 + 1))` is one solution. There may be others."
      ]
     },
     "metadata": {},
     "output_type": "display_data"
    }
   ],
   "source": [
    "# Check your answer (Run this code cell to receive credit!)\n",
    "q3.b.solution()"
   ]
  },
  {
   "cell_type": "markdown",
   "id": "b8882efe",
   "metadata": {
    "papermill": {
     "duration": 0.005936,
     "end_time": "2025-03-20T02:27:53.096333",
     "exception": false,
     "start_time": "2025-03-20T02:27:53.090397",
     "status": "completed"
    },
    "tags": []
   },
   "source": [
    "<hr/>\n",
    "\n",
    "# 4. \n",
    "Alice, Bob and Carol have agreed to pool their Halloween candy and split it evenly among themselves.\n",
    "For the sake of their friendship, any candies left over will be smashed. For example, if they collectively\n",
    "bring home 91 candies, they'll take 30 each and smash 1.\n",
    "\n",
    "Write an arithmetic expression below to calculate how many candies they must smash for a given haul."
   ]
  },
  {
   "cell_type": "code",
   "execution_count": 19,
   "id": "2a5dc41c",
   "metadata": {
    "execution": {
     "iopub.execute_input": "2025-03-20T02:27:53.109039Z",
     "iopub.status.busy": "2025-03-20T02:27:53.108832Z",
     "iopub.status.idle": "2025-03-20T02:27:53.114598Z",
     "shell.execute_reply": "2025-03-20T02:27:53.113832Z"
    },
    "papermill": {
     "duration": 0.013627,
     "end_time": "2025-03-20T02:27:53.115899",
     "exception": false,
     "start_time": "2025-03-20T02:27:53.102272",
     "status": "completed"
    },
    "tags": []
   },
   "outputs": [
    {
     "data": {
      "application/javascript": [
       "parent.postMessage({\"jupyterEvent\": \"custom.exercise_interaction\", \"data\": {\"outcomeType\": 1, \"valueTowardsCompletion\": 0.25, \"interactionType\": 1, \"questionType\": 1, \"questionId\": \"4_CandySplitting\", \"learnToolsVersion\": \"0.3.4\", \"failureMessage\": \"\", \"exceptionClass\": \"\", \"trace\": \"\"}}, \"*\")"
      ],
      "text/plain": [
       "<IPython.core.display.Javascript object>"
      ]
     },
     "metadata": {},
     "output_type": "display_data"
    },
    {
     "data": {
      "text/markdown": [
       "<span style=\"color:#33cc33\">Correct</span>"
      ],
      "text/plain": [
       "Correct"
      ]
     },
     "metadata": {},
     "output_type": "display_data"
    }
   ],
   "source": [
    "# Variables representing the number of candies collected by alice, bob, and carol\n",
    "alice_candies = 121\n",
    "bob_candies = 77\n",
    "carol_candies = 109\n",
    "\n",
    "# Your code goes here! Replace the right-hand side of this assignment with an expression\n",
    "# involving alice_candies, bob_candies, and carol_candies\n",
    "to_smash = (alice_candies + bob_candies + carol_candies) % 3\n",
    "\n",
    "# Check your answer\n",
    "q4.check()"
   ]
  },
  {
   "cell_type": "code",
   "execution_count": 20,
   "id": "c8a41c1c",
   "metadata": {
    "execution": {
     "iopub.execute_input": "2025-03-20T02:27:53.128789Z",
     "iopub.status.busy": "2025-03-20T02:27:53.128577Z",
     "iopub.status.idle": "2025-03-20T02:27:53.131216Z",
     "shell.execute_reply": "2025-03-20T02:27:53.130609Z"
    },
    "papermill": {
     "duration": 0.010317,
     "end_time": "2025-03-20T02:27:53.132348",
     "exception": false,
     "start_time": "2025-03-20T02:27:53.122031",
     "status": "completed"
    },
    "tags": []
   },
   "outputs": [],
   "source": [
    "#q4.hint()\n",
    "#q4.solution()"
   ]
  },
  {
   "cell_type": "markdown",
   "id": "61f52dec",
   "metadata": {
    "papermill": {
     "duration": 0.006138,
     "end_time": "2025-03-20T02:27:53.144611",
     "exception": false,
     "start_time": "2025-03-20T02:27:53.138473",
     "status": "completed"
    },
    "tags": []
   },
   "source": [
    "# Keep Going\n",
    "\n",
    "Next up, you'll **[learn to write new functions and understand functions others write](https://www.kaggle.com/colinmorris/functions-and-getting-help)**. This will make you at least 10 times more productive as a Python programmer. "
   ]
  },
  {
   "cell_type": "markdown",
   "id": "84e5bf1c",
   "metadata": {
    "papermill": {
     "duration": 0.005964,
     "end_time": "2025-03-20T02:27:53.156945",
     "exception": false,
     "start_time": "2025-03-20T02:27:53.150981",
     "status": "completed"
    },
    "tags": []
   },
   "source": [
    "---\n",
    "\n",
    "\n",
    "\n",
    "\n",
    "*Have questions or comments? Visit the [course discussion forum](https://www.kaggle.com/learn/python/discussion) to chat with other learners.*"
   ]
  }
 ],
 "metadata": {
  "kaggle": {
   "accelerator": "none",
   "dataSources": [],
   "isGpuEnabled": false,
   "isInternetEnabled": false,
   "language": "python",
   "sourceType": "notebook"
  },
  "kernelspec": {
   "display_name": "Python 3",
   "language": "python",
   "name": "python3"
  },
  "language_info": {
   "codemirror_mode": {
    "name": "ipython",
    "version": 3
   },
   "file_extension": ".py",
   "mimetype": "text/x-python",
   "name": "python",
   "nbconvert_exporter": "python",
   "pygments_lexer": "ipython3",
   "version": "3.10.12"
  },
  "learntools_metadata": {
   "lesson_index": 0,
   "type": "exercise"
  },
  "papermill": {
   "default_parameters": {},
   "duration": 4.209067,
   "end_time": "2025-03-20T02:27:53.581317",
   "environment_variables": {},
   "exception": null,
   "input_path": "__notebook__.ipynb",
   "output_path": "__notebook__.ipynb",
   "parameters": {},
   "start_time": "2025-03-20T02:27:49.372250",
   "version": "2.6.0"
  }
 },
 "nbformat": 4,
 "nbformat_minor": 5
}
